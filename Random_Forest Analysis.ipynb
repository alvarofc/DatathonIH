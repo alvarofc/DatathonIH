{
 "cells": [
  {
   "cell_type": "code",
   "execution_count": 28,
   "metadata": {
    "ExecuteTime": {
     "end_time": "2019-04-19T12:32:18.226872Z",
     "start_time": "2019-04-19T12:32:18.223187Z"
    }
   },
   "outputs": [],
   "source": [
    "import pandas as pd\n",
    "from sklearn.model_selection import train_test_split\n",
    "from sklearn.ensemble import RandomForestClassifier"
   ]
  },
  {
   "cell_type": "code",
   "execution_count": 29,
   "metadata": {
    "ExecuteTime": {
     "end_time": "2019-04-19T12:29:41.276272Z",
     "start_time": "2019-04-19T12:29:41.269761Z"
    }
   },
   "outputs": [],
   "source": [
    "# Take the data and create train an test sets with oversamplig"
   ]
  },
  {
   "cell_type": "code",
   "execution_count": 30,
   "metadata": {
    "ExecuteTime": {
     "end_time": "2019-04-19T12:29:49.719623Z",
     "start_time": "2019-04-19T12:29:49.681438Z"
    }
   },
   "outputs": [],
   "source": [
    "data = pd.read_csv('trans_cookies.csv')"
   ]
  },
  {
   "cell_type": "code",
   "execution_count": 31,
   "metadata": {
    "ExecuteTime": {
     "end_time": "2019-04-19T12:29:55.823297Z",
     "start_time": "2019-04-19T12:29:55.801284Z"
    }
   },
   "outputs": [
    {
     "data": {
      "text/plain": [
       "(5138, 17)"
      ]
     },
     "execution_count": 31,
     "metadata": {},
     "output_type": "execute_result"
    }
   ],
   "source": [
    "data.shape"
   ]
  },
  {
   "cell_type": "code",
   "execution_count": 32,
   "metadata": {
    "ExecuteTime": {
     "end_time": "2019-04-19T12:30:03.462304Z",
     "start_time": "2019-04-19T12:30:03.456466Z"
    }
   },
   "outputs": [
    {
     "data": {
      "text/plain": [
       "Index(['sugar to flour ratio', 'sugar index', 'bake temp', 'chill time',\n",
       "       'calories', 'density', 'pH', 'grams baking soda', 'bake time', 'weight',\n",
       "       'chocolate', 'nuts', 'oats', 'raisins', 'peanut_butter',\n",
       "       'butter type_melted', 'quality'],\n",
       "      dtype='object')"
      ]
     },
     "execution_count": 32,
     "metadata": {},
     "output_type": "execute_result"
    }
   ],
   "source": [
    "data.columns"
   ]
  },
  {
   "cell_type": "code",
   "execution_count": 33,
   "metadata": {},
   "outputs": [],
   "source": [
    "cookies = data"
   ]
  },
  {
   "cell_type": "code",
   "execution_count": 34,
   "metadata": {
    "ExecuteTime": {
     "end_time": "2019-04-19T12:30:16.471171Z",
     "start_time": "2019-04-19T12:30:16.466217Z"
    }
   },
   "outputs": [],
   "source": [
    "X = data.drop(columns= 'quality')\n",
    "y = data['quality']"
   ]
  },
  {
   "cell_type": "code",
   "execution_count": 10,
   "metadata": {
    "ExecuteTime": {
     "end_time": "2019-04-19T12:31:02.662389Z",
     "start_time": "2019-04-19T12:31:02.652419Z"
    }
   },
   "outputs": [],
   "source": [
    "#SMOTE\n",
    "#from sklearn.model_selection import train_test_split\n",
    "#X = cookies.drop(columns='quality')\n",
    "#y = cookies['quality']\n",
    "#X_train, X_test, y_train, y_test = train_test_split(X, y, test_size=0.2, random_state=42, stratify=y)\n",
    "#from imblearn.over_sampling import SMOTE\n",
    "#sm = SMOTE(k_neighbors=3, random_state=2)\n",
    "#X_train_res, y_train_res = sm.fit_sample(X_train, y_train.ravel())"
   ]
  },
  {
   "cell_type": "code",
   "execution_count": 35,
   "metadata": {},
   "outputs": [],
   "source": [
    "# Normal test train\n",
    "X_train, X_test, y_train, y_test = train_test_split(X, y, test_size=0.2, random_state=42, stratify=y)"
   ]
  },
  {
   "cell_type": "code",
   "execution_count": 36,
   "metadata": {
    "ExecuteTime": {
     "end_time": "2019-04-19T12:31:20.231209Z",
     "start_time": "2019-04-19T12:31:20.225569Z"
    }
   },
   "outputs": [],
   "source": [
    "# Random Tree Forest"
   ]
  },
  {
   "cell_type": "code",
   "execution_count": 40,
   "metadata": {
    "ExecuteTime": {
     "end_time": "2019-04-19T12:33:27.670922Z",
     "start_time": "2019-04-19T12:33:27.596932Z"
    }
   },
   "outputs": [
    {
     "name": "stderr",
     "output_type": "stream",
     "text": [
      "/usr/local/lib/python3.7/site-packages/sklearn/ensemble/forest.py:246: FutureWarning: The default value of n_estimators will change from 10 in version 0.20 to 100 in 0.22.\n",
      "  \"10 in version 0.20 to 100 in 0.22.\", FutureWarning)\n"
     ]
    },
    {
     "data": {
      "text/plain": [
       "RandomForestClassifier(bootstrap=True, class_weight=None, criterion='gini',\n",
       "            max_depth=None, max_features='auto', max_leaf_nodes=None,\n",
       "            min_impurity_decrease=0.0, min_impurity_split=None,\n",
       "            min_samples_leaf=1, min_samples_split=2,\n",
       "            min_weight_fraction_leaf=0.0, n_estimators=10, n_jobs=None,\n",
       "            oob_score=False, random_state=None, verbose=0,\n",
       "            warm_start=False)"
      ]
     },
     "execution_count": 40,
     "metadata": {},
     "output_type": "execute_result"
    }
   ],
   "source": [
    "rfc = RandomForestClassifier()\n",
    "rfc.fit(X_train, y_train)"
   ]
  },
  {
   "cell_type": "code",
   "execution_count": 41,
   "metadata": {
    "ExecuteTime": {
     "end_time": "2019-04-19T12:36:37.666803Z",
     "start_time": "2019-04-19T12:36:37.656372Z"
    }
   },
   "outputs": [],
   "source": [
    "y_pred = rfc.predict(X_test)"
   ]
  },
  {
   "cell_type": "code",
   "execution_count": 42,
   "metadata": {
    "ExecuteTime": {
     "end_time": "2019-04-19T12:36:38.131406Z",
     "start_time": "2019-04-19T12:36:38.125766Z"
    }
   },
   "outputs": [],
   "source": [
    "from sklearn.metrics import classification_report\n",
    "from sklearn.metrics import accuracy_score\n",
    "from sklearn.metrics import confusion_matrix"
   ]
  },
  {
   "cell_type": "code",
   "execution_count": 43,
   "metadata": {
    "ExecuteTime": {
     "end_time": "2019-04-19T12:36:39.114998Z",
     "start_time": "2019-04-19T12:36:39.094777Z"
    }
   },
   "outputs": [
    {
     "name": "stdout",
     "output_type": "stream",
     "text": [
      "              precision    recall  f1-score   support\n",
      "\n",
      "           3       0.00      0.00      0.00         1\n",
      "           4       0.00      0.00      0.00         9\n",
      "           5       0.69      0.83      0.76       112\n",
      "           6       0.58      0.55      0.56       121\n",
      "           7       0.61      0.61      0.61       262\n",
      "           8       0.62      0.74      0.67       354\n",
      "           9       0.71      0.45      0.55       141\n",
      "          10       0.88      0.26      0.40        27\n",
      "          11       0.00      0.00      0.00         1\n",
      "\n",
      "   micro avg       0.63      0.63      0.63      1028\n",
      "   macro avg       0.45      0.38      0.40      1028\n",
      "weighted avg       0.63      0.63      0.62      1028\n",
      "\n",
      "---\n",
      "0.632295719844358\n",
      "---\n",
      "[[  0   0   1   0   0   0   0   0   0]\n",
      " [  1   0   6   2   0   0   0   0   0]\n",
      " [  0   0  93  17   2   0   0   0   0]\n",
      " [  0   0  29  66  18   7   1   0   0]\n",
      " [  0   0   5  24 159  72   2   0   0]\n",
      " [  0   0   0   3  72 261  18   0   0]\n",
      " [  0   0   0   1  10  65  64   1   0]\n",
      " [  0   0   0   0   0  15   5   7   0]\n",
      " [  0   0   0   0   0   1   0   0   0]]\n"
     ]
    },
    {
     "name": "stderr",
     "output_type": "stream",
     "text": [
      "/usr/local/lib/python3.7/site-packages/sklearn/metrics/classification.py:1143: UndefinedMetricWarning: Precision and F-score are ill-defined and being set to 0.0 in labels with no predicted samples.\n",
      "  'precision', 'predicted', average, warn_for)\n"
     ]
    }
   ],
   "source": [
    "print(classification_report(y_test, y_pred))\n",
    "print(\"---\")\n",
    "print(accuracy_score(y_test, y_pred))\n",
    "print('---')\n",
    "print(confusion_matrix(y_test, y_pred))"
   ]
  },
  {
   "cell_type": "code",
   "execution_count": null,
   "metadata": {
    "ExecuteTime": {
     "end_time": "2019-04-19T12:42:01.603678Z",
     "start_time": "2019-04-19T12:40:47.188723Z"
    }
   },
   "outputs": [
    {
     "name": "stderr",
     "output_type": "stream",
     "text": [
      "/usr/local/lib/python3.7/site-packages/sklearn/model_selection/_split.py:652: Warning: The least populated class in y has only 4 members, which is too few. The minimum number of members in any class cannot be less than n_splits=5.\n",
      "  % (min_groups, self.n_splits)), Warning)\n"
     ]
    }
   ],
   "source": [
    "# Random CV -CHECKING BEST PARAMETER COMBINATION FOR KNN\n",
    "\n",
    "from sklearn.model_selection import RandomizedSearchCV\n",
    "\n",
    "RF_best = RandomForestClassifier()\n",
    "\n",
    "# Parameters to try\n",
    "parameter_grid = {'n_estimators': [i for i in range(50, 200)],\n",
    "                 'class_weight' :['balanced', 'balanced_subsample']}\n",
    "\n",
    "\n",
    "\n",
    "# Create grid search object on decision tree using stratified cross validation\n",
    "n_iter_search = 20\n",
    "random_search = RandomizedSearchCV(RF_best,\n",
    "                           param_distributions=parameter_grid,\n",
    "                           n_iter=n_iter_search, cv=5)\n",
    "\n",
    "# Fit model with grid_search\n",
    "random_search.fit(X_train, y_train)\n",
    "print('Best score: {}'.format(random_search.best_score_))\n",
    "print('Best parameters: {}'.format(random_search.best_params_))"
   ]
  },
  {
   "cell_type": "code",
   "execution_count": null,
   "metadata": {},
   "outputs": [],
   "source": []
  }
 ],
 "metadata": {
  "kernelspec": {
   "display_name": "Python 3",
   "language": "python",
   "name": "python3"
  },
  "language_info": {
   "codemirror_mode": {
    "name": "ipython",
    "version": 3
   },
   "file_extension": ".py",
   "mimetype": "text/x-python",
   "name": "python",
   "nbconvert_exporter": "python",
   "pygments_lexer": "ipython3",
   "version": "3.7.2"
  },
  "varInspector": {
   "cols": {
    "lenName": 16,
    "lenType": 16,
    "lenVar": 40
   },
   "kernels_config": {
    "python": {
     "delete_cmd_postfix": "",
     "delete_cmd_prefix": "del ",
     "library": "var_list.py",
     "varRefreshCmd": "print(var_dic_list())"
    },
    "r": {
     "delete_cmd_postfix": ") ",
     "delete_cmd_prefix": "rm(",
     "library": "var_list.r",
     "varRefreshCmd": "cat(var_dic_list()) "
    }
   },
   "types_to_exclude": [
    "module",
    "function",
    "builtin_function_or_method",
    "instance",
    "_Feature"
   ],
   "window_display": false
  }
 },
 "nbformat": 4,
 "nbformat_minor": 2
}
