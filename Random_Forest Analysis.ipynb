{
 "cells": [
  {
   "cell_type": "code",
   "execution_count": 12,
   "metadata": {
    "ExecuteTime": {
     "end_time": "2019-04-19T12:32:18.226872Z",
     "start_time": "2019-04-19T12:32:18.223187Z"
    }
   },
   "outputs": [],
   "source": [
    "import pandas as pd\n",
    "from sklearn.model_selection import train_test_split\n",
    "from sklearn.ensemble import RandomForestClassifier"
   ]
  },
  {
   "cell_type": "code",
   "execution_count": 2,
   "metadata": {
    "ExecuteTime": {
     "end_time": "2019-04-19T12:29:41.276272Z",
     "start_time": "2019-04-19T12:29:41.269761Z"
    }
   },
   "outputs": [],
   "source": [
    "# Take the data and create train an test sets"
   ]
  },
  {
   "cell_type": "code",
   "execution_count": 3,
   "metadata": {
    "ExecuteTime": {
     "end_time": "2019-04-19T12:29:49.719623Z",
     "start_time": "2019-04-19T12:29:49.681438Z"
    }
   },
   "outputs": [],
   "source": [
    "data = pd.read_csv('trans_cookies.csv')"
   ]
  },
  {
   "cell_type": "code",
   "execution_count": 4,
   "metadata": {
    "ExecuteTime": {
     "end_time": "2019-04-19T12:29:55.823297Z",
     "start_time": "2019-04-19T12:29:55.801284Z"
    }
   },
   "outputs": [
    {
     "data": {
      "text/html": [
       "<div>\n",
       "<style scoped>\n",
       "    .dataframe tbody tr th:only-of-type {\n",
       "        vertical-align: middle;\n",
       "    }\n",
       "\n",
       "    .dataframe tbody tr th {\n",
       "        vertical-align: top;\n",
       "    }\n",
       "\n",
       "    .dataframe thead th {\n",
       "        text-align: right;\n",
       "    }\n",
       "</style>\n",
       "<table border=\"1\" class=\"dataframe\">\n",
       "  <thead>\n",
       "    <tr style=\"text-align: right;\">\n",
       "      <th></th>\n",
       "      <th>sugar to flour ratio</th>\n",
       "      <th>sugar index</th>\n",
       "      <th>bake temp</th>\n",
       "      <th>chill time</th>\n",
       "      <th>calories</th>\n",
       "      <th>density</th>\n",
       "      <th>pH</th>\n",
       "      <th>grams baking soda</th>\n",
       "      <th>bake time</th>\n",
       "      <th>weight</th>\n",
       "      <th>crunch factor</th>\n",
       "      <th>aesthetic appeal</th>\n",
       "      <th>chocolate</th>\n",
       "      <th>nuts</th>\n",
       "      <th>oats</th>\n",
       "      <th>raisins</th>\n",
       "      <th>peanut_butter</th>\n",
       "      <th>butter type_melted</th>\n",
       "      <th>quality</th>\n",
       "    </tr>\n",
       "  </thead>\n",
       "  <tbody>\n",
       "    <tr>\n",
       "      <th>0</th>\n",
       "      <td>-0.464475</td>\n",
       "      <td>0.875168</td>\n",
       "      <td>-0.941445</td>\n",
       "      <td>-0.894671</td>\n",
       "      <td>0.367978</td>\n",
       "      <td>-0.333415</td>\n",
       "      <td>-0.742210</td>\n",
       "      <td>-0.612460</td>\n",
       "      <td>1.337694</td>\n",
       "      <td>0.310813</td>\n",
       "      <td>-0.688397</td>\n",
       "      <td>-0.024171</td>\n",
       "      <td>-1.444260</td>\n",
       "      <td>-0.558017</td>\n",
       "      <td>-0.539402</td>\n",
       "      <td>1.527101</td>\n",
       "      <td>-0.117525</td>\n",
       "      <td>0.566112</td>\n",
       "      <td>8</td>\n",
       "    </tr>\n",
       "    <tr>\n",
       "      <th>1</th>\n",
       "      <td>-0.604563</td>\n",
       "      <td>-0.451709</td>\n",
       "      <td>-0.083989</td>\n",
       "      <td>0.206440</td>\n",
       "      <td>-0.042954</td>\n",
       "      <td>-0.122242</td>\n",
       "      <td>-0.370369</td>\n",
       "      <td>-0.334466</td>\n",
       "      <td>-1.760020</td>\n",
       "      <td>-0.772054</td>\n",
       "      <td>0.729634</td>\n",
       "      <td>-0.024171</td>\n",
       "      <td>-1.444260</td>\n",
       "      <td>-0.558017</td>\n",
       "      <td>-0.539402</td>\n",
       "      <td>1.527101</td>\n",
       "      <td>-0.117525</td>\n",
       "      <td>0.566112</td>\n",
       "      <td>7</td>\n",
       "    </tr>\n",
       "    <tr>\n",
       "      <th>2</th>\n",
       "      <td>-0.954783</td>\n",
       "      <td>-0.751326</td>\n",
       "      <td>-0.707593</td>\n",
       "      <td>0.148487</td>\n",
       "      <td>-0.168020</td>\n",
       "      <td>-2.448553</td>\n",
       "      <td>-0.060502</td>\n",
       "      <td>2.097979</td>\n",
       "      <td>2.928411</td>\n",
       "      <td>-1.932270</td>\n",
       "      <td>0.971737</td>\n",
       "      <td>-0.024171</td>\n",
       "      <td>0.692396</td>\n",
       "      <td>1.792059</td>\n",
       "      <td>-0.539402</td>\n",
       "      <td>-0.654836</td>\n",
       "      <td>-0.117525</td>\n",
       "      <td>0.566112</td>\n",
       "      <td>9</td>\n",
       "    </tr>\n",
       "    <tr>\n",
       "      <th>3</th>\n",
       "      <td>-0.954783</td>\n",
       "      <td>1.089181</td>\n",
       "      <td>-0.200915</td>\n",
       "      <td>0.612112</td>\n",
       "      <td>0.153579</td>\n",
       "      <td>0.562368</td>\n",
       "      <td>-0.494316</td>\n",
       "      <td>-1.237946</td>\n",
       "      <td>-0.001858</td>\n",
       "      <td>-0.849402</td>\n",
       "      <td>0.314601</td>\n",
       "      <td>-0.024171</td>\n",
       "      <td>0.692396</td>\n",
       "      <td>-0.558017</td>\n",
       "      <td>-0.539402</td>\n",
       "      <td>-0.654836</td>\n",
       "      <td>-0.117525</td>\n",
       "      <td>0.566112</td>\n",
       "      <td>7</td>\n",
       "    </tr>\n",
       "    <tr>\n",
       "      <th>4</th>\n",
       "      <td>-0.534519</td>\n",
       "      <td>-0.644320</td>\n",
       "      <td>0.890393</td>\n",
       "      <td>-1.416250</td>\n",
       "      <td>-1.472281</td>\n",
       "      <td>0.937030</td>\n",
       "      <td>-0.804184</td>\n",
       "      <td>0.291020</td>\n",
       "      <td>-0.922800</td>\n",
       "      <td>2.089810</td>\n",
       "      <td>-0.688397</td>\n",
       "      <td>-0.024171</td>\n",
       "      <td>0.692396</td>\n",
       "      <td>1.792059</td>\n",
       "      <td>1.853904</td>\n",
       "      <td>-0.654836</td>\n",
       "      <td>-0.117525</td>\n",
       "      <td>-1.766434</td>\n",
       "      <td>5</td>\n",
       "    </tr>\n",
       "  </tbody>\n",
       "</table>\n",
       "</div>"
      ],
      "text/plain": [
       "   sugar to flour ratio  sugar index  bake temp  chill time  calories  \\\n",
       "0             -0.464475     0.875168  -0.941445   -0.894671  0.367978   \n",
       "1             -0.604563    -0.451709  -0.083989    0.206440 -0.042954   \n",
       "2             -0.954783    -0.751326  -0.707593    0.148487 -0.168020   \n",
       "3             -0.954783     1.089181  -0.200915    0.612112  0.153579   \n",
       "4             -0.534519    -0.644320   0.890393   -1.416250 -1.472281   \n",
       "\n",
       "    density        pH  grams baking soda  bake time    weight  crunch factor  \\\n",
       "0 -0.333415 -0.742210          -0.612460   1.337694  0.310813      -0.688397   \n",
       "1 -0.122242 -0.370369          -0.334466  -1.760020 -0.772054       0.729634   \n",
       "2 -2.448553 -0.060502           2.097979   2.928411 -1.932270       0.971737   \n",
       "3  0.562368 -0.494316          -1.237946  -0.001858 -0.849402       0.314601   \n",
       "4  0.937030 -0.804184           0.291020  -0.922800  2.089810      -0.688397   \n",
       "\n",
       "   aesthetic appeal  chocolate      nuts      oats   raisins  peanut_butter  \\\n",
       "0         -0.024171  -1.444260 -0.558017 -0.539402  1.527101      -0.117525   \n",
       "1         -0.024171  -1.444260 -0.558017 -0.539402  1.527101      -0.117525   \n",
       "2         -0.024171   0.692396  1.792059 -0.539402 -0.654836      -0.117525   \n",
       "3         -0.024171   0.692396 -0.558017 -0.539402 -0.654836      -0.117525   \n",
       "4         -0.024171   0.692396  1.792059  1.853904 -0.654836      -0.117525   \n",
       "\n",
       "   butter type_melted  quality  \n",
       "0            0.566112        8  \n",
       "1            0.566112        7  \n",
       "2            0.566112        9  \n",
       "3            0.566112        7  \n",
       "4           -1.766434        5  "
      ]
     },
     "execution_count": 4,
     "metadata": {},
     "output_type": "execute_result"
    }
   ],
   "source": [
    "data.head()"
   ]
  },
  {
   "cell_type": "code",
   "execution_count": 5,
   "metadata": {
    "ExecuteTime": {
     "end_time": "2019-04-19T12:30:03.462304Z",
     "start_time": "2019-04-19T12:30:03.456466Z"
    }
   },
   "outputs": [
    {
     "data": {
      "text/plain": [
       "Index(['sugar to flour ratio', 'sugar index', 'bake temp', 'chill time',\n",
       "       'calories', 'density', 'pH', 'grams baking soda', 'bake time', 'weight',\n",
       "       'crunch factor', 'aesthetic appeal', 'chocolate', 'nuts', 'oats',\n",
       "       'raisins', 'peanut_butter', 'butter type_melted', 'quality'],\n",
       "      dtype='object')"
      ]
     },
     "execution_count": 5,
     "metadata": {},
     "output_type": "execute_result"
    }
   ],
   "source": [
    "data.columns"
   ]
  },
  {
   "cell_type": "code",
   "execution_count": 6,
   "metadata": {
    "ExecuteTime": {
     "end_time": "2019-04-19T12:30:16.471171Z",
     "start_time": "2019-04-19T12:30:16.466217Z"
    }
   },
   "outputs": [],
   "source": [
    "X = data.drop(columns= 'quality')\n",
    "y = data['quality']"
   ]
  },
  {
   "cell_type": "code",
   "execution_count": 10,
   "metadata": {
    "ExecuteTime": {
     "end_time": "2019-04-19T12:31:02.662389Z",
     "start_time": "2019-04-19T12:31:02.652419Z"
    }
   },
   "outputs": [],
   "source": [
    "X_train, X_test, y_train, y_test = train_test_split(X, y, test_size = 0.2,random_state=10, stratify = y)"
   ]
  },
  {
   "cell_type": "code",
   "execution_count": 11,
   "metadata": {
    "ExecuteTime": {
     "end_time": "2019-04-19T12:31:20.231209Z",
     "start_time": "2019-04-19T12:31:20.225569Z"
    }
   },
   "outputs": [],
   "source": [
    "# Random Tree Forest"
   ]
  },
  {
   "cell_type": "code",
   "execution_count": 13,
   "metadata": {
    "ExecuteTime": {
     "end_time": "2019-04-19T12:33:27.670922Z",
     "start_time": "2019-04-19T12:33:27.596932Z"
    }
   },
   "outputs": [
    {
     "name": "stderr",
     "output_type": "stream",
     "text": [
      "/home/atwenter/anaconda3/lib/python3.7/site-packages/sklearn/ensemble/forest.py:246: FutureWarning: The default value of n_estimators will change from 10 in version 0.20 to 100 in 0.22.\n",
      "  \"10 in version 0.20 to 100 in 0.22.\", FutureWarning)\n"
     ]
    },
    {
     "data": {
      "text/plain": [
       "RandomForestClassifier(bootstrap=True, class_weight=None, criterion='gini',\n",
       "            max_depth=None, max_features='auto', max_leaf_nodes=None,\n",
       "            min_impurity_decrease=0.0, min_impurity_split=None,\n",
       "            min_samples_leaf=1, min_samples_split=2,\n",
       "            min_weight_fraction_leaf=0.0, n_estimators=10, n_jobs=None,\n",
       "            oob_score=False, random_state=None, verbose=0,\n",
       "            warm_start=False)"
      ]
     },
     "execution_count": 13,
     "metadata": {},
     "output_type": "execute_result"
    }
   ],
   "source": [
    "rfc = RandomForestClassifier()\n",
    "rfc.fit(X_train, y_train)"
   ]
  },
  {
   "cell_type": "code",
   "execution_count": 16,
   "metadata": {
    "ExecuteTime": {
     "end_time": "2019-04-19T12:36:37.666803Z",
     "start_time": "2019-04-19T12:36:37.656372Z"
    }
   },
   "outputs": [],
   "source": [
    "y_pred = rfc.predict(X_test)"
   ]
  },
  {
   "cell_type": "code",
   "execution_count": 17,
   "metadata": {
    "ExecuteTime": {
     "end_time": "2019-04-19T12:36:38.131406Z",
     "start_time": "2019-04-19T12:36:38.125766Z"
    }
   },
   "outputs": [],
   "source": [
    "from sklearn.metrics import classification_report\n",
    "from sklearn.metrics import accuracy_score\n",
    "from sklearn.metrics import confusion_matrix"
   ]
  },
  {
   "cell_type": "code",
   "execution_count": 18,
   "metadata": {
    "ExecuteTime": {
     "end_time": "2019-04-19T12:36:39.114998Z",
     "start_time": "2019-04-19T12:36:39.094777Z"
    }
   },
   "outputs": [
    {
     "name": "stdout",
     "output_type": "stream",
     "text": [
      "              precision    recall  f1-score   support\n",
      "\n",
      "           3       0.00      0.00      0.00         1\n",
      "           4       0.00      0.00      0.00         9\n",
      "           5       0.65      0.77      0.70       112\n",
      "           6       0.56      0.52      0.54       121\n",
      "           7       0.60      0.54      0.57       262\n",
      "           8       0.57      0.72      0.64       354\n",
      "           9       0.61      0.38      0.47       141\n",
      "          10       0.78      0.26      0.39        27\n",
      "          11       0.00      0.00      0.00         1\n",
      "\n",
      "   micro avg       0.59      0.59      0.59      1028\n",
      "   macro avg       0.42      0.35      0.37      1028\n",
      "weighted avg       0.59      0.59      0.58      1028\n",
      "\n",
      "---\n",
      "0.5904669260700389\n",
      "---\n",
      "[[  0   0   0   1   0   0   0   0   0]\n",
      " [  0   0   7   2   0   0   0   0   0]\n",
      " [  0   0  86  22   3   1   0   0   0]\n",
      " [  0   1  33  63  13  10   1   0   0]\n",
      " [  0   0   7  21 142  91   1   0   0]\n",
      " [  0   0   0   3  69 255  26   1   0]\n",
      " [  0   0   0   0   8  78  54   1   0]\n",
      " [  0   0   0   0   2  12   6   7   0]\n",
      " [  0   0   0   0   1   0   0   0   0]]\n"
     ]
    },
    {
     "name": "stderr",
     "output_type": "stream",
     "text": [
      "/home/atwenter/anaconda3/lib/python3.7/site-packages/sklearn/metrics/classification.py:1143: UndefinedMetricWarning: Precision and F-score are ill-defined and being set to 0.0 in labels with no predicted samples.\n",
      "  'precision', 'predicted', average, warn_for)\n"
     ]
    }
   ],
   "source": [
    "print(classification_report(y_test, y_pred))\n",
    "print(\"---\")\n",
    "print(accuracy_score(y_test, y_pred))\n",
    "print('---')\n",
    "print(confusion_matrix(y_test, y_pred))"
   ]
  },
  {
   "cell_type": "code",
   "execution_count": 21,
   "metadata": {
    "ExecuteTime": {
     "end_time": "2019-04-19T12:42:01.603678Z",
     "start_time": "2019-04-19T12:40:47.188723Z"
    }
   },
   "outputs": [
    {
     "name": "stderr",
     "output_type": "stream",
     "text": [
      "/home/atwenter/anaconda3/lib/python3.7/site-packages/sklearn/model_selection/_split.py:652: Warning: The least populated class in y has only 4 members, which is too few. The minimum number of members in any class cannot be less than n_splits=5.\n",
      "  % (min_groups, self.n_splits)), Warning)\n"
     ]
    },
    {
     "name": "stdout",
     "output_type": "stream",
     "text": [
      "Best score: 0.6411192214111923\n",
      "Best parameters: {'n_estimators': 194, 'class_weight': 'balanced'}\n"
     ]
    }
   ],
   "source": [
    "# Random CV -CHECKING BEST PARAMETER COMBINATION FOR KNN\n",
    "\n",
    "from sklearn.model_selection import RandomizedSearchCV\n",
    "\n",
    "RF_best = RandomForestClassifier()\n",
    "\n",
    "# Parameters to try\n",
    "parameter_grid = {'n_estimators': [i for i in range(50, 200)],\n",
    "                 'class_weight' :['balanced', 'balanced_subsample']}\n",
    "\n",
    "\n",
    "\n",
    "# Create grid search object on decision tree using stratified cross validation\n",
    "n_iter_search = 20\n",
    "random_search = RandomizedSearchCV(RF_best,\n",
    "                           param_distributions=parameter_grid,\n",
    "                           n_iter=n_iter_search, cv=5)\n",
    "\n",
    "# Fit model with grid_search\n",
    "random_search.fit(X_train, y_train)\n",
    "print('Best score: {}'.format(random_search.best_score_))\n",
    "print('Best parameters: {}'.format(random_search.best_params_))"
   ]
  },
  {
   "cell_type": "code",
   "execution_count": null,
   "metadata": {},
   "outputs": [],
   "source": []
  }
 ],
 "metadata": {
  "kernelspec": {
   "display_name": "Python 3",
   "language": "python",
   "name": "python3"
  },
  "language_info": {
   "codemirror_mode": {
    "name": "ipython",
    "version": 3
   },
   "file_extension": ".py",
   "mimetype": "text/x-python",
   "name": "python",
   "nbconvert_exporter": "python",
   "pygments_lexer": "ipython3",
   "version": "3.7.1"
  },
  "varInspector": {
   "cols": {
    "lenName": 16,
    "lenType": 16,
    "lenVar": 40
   },
   "kernels_config": {
    "python": {
     "delete_cmd_postfix": "",
     "delete_cmd_prefix": "del ",
     "library": "var_list.py",
     "varRefreshCmd": "print(var_dic_list())"
    },
    "r": {
     "delete_cmd_postfix": ") ",
     "delete_cmd_prefix": "rm(",
     "library": "var_list.r",
     "varRefreshCmd": "cat(var_dic_list()) "
    }
   },
   "types_to_exclude": [
    "module",
    "function",
    "builtin_function_or_method",
    "instance",
    "_Feature"
   ],
   "window_display": false
  }
 },
 "nbformat": 4,
 "nbformat_minor": 2
}
