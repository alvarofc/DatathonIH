{
 "cells": [
  {
   "cell_type": "markdown",
   "metadata": {},
   "source": [
    "### Import Libraries"
   ]
  },
  {
   "cell_type": "code",
   "execution_count": 25,
   "metadata": {
    "ExecuteTime": {
     "end_time": "2019-04-19T13:59:58.563378Z",
     "start_time": "2019-04-19T13:59:58.559373Z"
    }
   },
   "outputs": [],
   "source": [
    "import pandas as pd\n",
    "from sklearn.model_selection import train_test_split\n",
    "from sklearn.neighbors import KNeighborsClassifier\n",
    "from sklearn.neighbors import RadiusNeighborsClassifier\n",
    "from imblearn.over_sampling import SMOTE\n"
   ]
  },
  {
   "cell_type": "markdown",
   "metadata": {
    "ExecuteTime": {
     "end_time": "2019-04-19T09:57:44.556177Z",
     "start_time": "2019-04-19T09:57:44.551071Z"
    }
   },
   "source": [
    "### Take the data and create train an test sets"
   ]
  },
  {
   "cell_type": "code",
   "execution_count": 20,
   "metadata": {
    "ExecuteTime": {
     "end_time": "2019-04-19T13:58:49.772949Z",
     "start_time": "2019-04-19T13:58:49.749755Z"
    }
   },
   "outputs": [],
   "source": [
    "data = pd.read_csv('trans_cookies.csv')"
   ]
  },
  {
   "cell_type": "code",
   "execution_count": 21,
   "metadata": {
    "ExecuteTime": {
     "end_time": "2019-04-19T13:58:50.753952Z",
     "start_time": "2019-04-19T13:58:50.736358Z"
    }
   },
   "outputs": [
    {
     "data": {
      "text/html": [
       "<div>\n",
       "<style scoped>\n",
       "    .dataframe tbody tr th:only-of-type {\n",
       "        vertical-align: middle;\n",
       "    }\n",
       "\n",
       "    .dataframe tbody tr th {\n",
       "        vertical-align: top;\n",
       "    }\n",
       "\n",
       "    .dataframe thead th {\n",
       "        text-align: right;\n",
       "    }\n",
       "</style>\n",
       "<table border=\"1\" class=\"dataframe\">\n",
       "  <thead>\n",
       "    <tr style=\"text-align: right;\">\n",
       "      <th></th>\n",
       "      <th>sugar to flour ratio</th>\n",
       "      <th>sugar index</th>\n",
       "      <th>bake temp</th>\n",
       "      <th>chill time</th>\n",
       "      <th>calories</th>\n",
       "      <th>density</th>\n",
       "      <th>pH</th>\n",
       "      <th>grams baking soda</th>\n",
       "      <th>bake time</th>\n",
       "      <th>weight</th>\n",
       "      <th>chocolate</th>\n",
       "      <th>nuts</th>\n",
       "      <th>butter type_melted</th>\n",
       "      <th>quality</th>\n",
       "    </tr>\n",
       "  </thead>\n",
       "  <tbody>\n",
       "    <tr>\n",
       "      <th>0</th>\n",
       "      <td>-0.464475</td>\n",
       "      <td>0.875168</td>\n",
       "      <td>-0.941445</td>\n",
       "      <td>-0.894671</td>\n",
       "      <td>0.367978</td>\n",
       "      <td>-0.333415</td>\n",
       "      <td>-0.742210</td>\n",
       "      <td>-0.612460</td>\n",
       "      <td>1.337694</td>\n",
       "      <td>0.310813</td>\n",
       "      <td>-1.444260</td>\n",
       "      <td>-0.558017</td>\n",
       "      <td>0.566112</td>\n",
       "      <td>8</td>\n",
       "    </tr>\n",
       "    <tr>\n",
       "      <th>1</th>\n",
       "      <td>-0.604563</td>\n",
       "      <td>-0.451709</td>\n",
       "      <td>-0.083989</td>\n",
       "      <td>0.206440</td>\n",
       "      <td>-0.042954</td>\n",
       "      <td>-0.122242</td>\n",
       "      <td>-0.370369</td>\n",
       "      <td>-0.334466</td>\n",
       "      <td>-1.760020</td>\n",
       "      <td>-0.772054</td>\n",
       "      <td>-1.444260</td>\n",
       "      <td>-0.558017</td>\n",
       "      <td>0.566112</td>\n",
       "      <td>7</td>\n",
       "    </tr>\n",
       "    <tr>\n",
       "      <th>2</th>\n",
       "      <td>-0.954783</td>\n",
       "      <td>-0.751326</td>\n",
       "      <td>-0.707593</td>\n",
       "      <td>0.148487</td>\n",
       "      <td>-0.168020</td>\n",
       "      <td>-2.448553</td>\n",
       "      <td>-0.060502</td>\n",
       "      <td>2.097979</td>\n",
       "      <td>2.928411</td>\n",
       "      <td>-1.932270</td>\n",
       "      <td>0.692396</td>\n",
       "      <td>1.792059</td>\n",
       "      <td>0.566112</td>\n",
       "      <td>9</td>\n",
       "    </tr>\n",
       "    <tr>\n",
       "      <th>3</th>\n",
       "      <td>-0.954783</td>\n",
       "      <td>1.089181</td>\n",
       "      <td>-0.200915</td>\n",
       "      <td>0.612112</td>\n",
       "      <td>0.153579</td>\n",
       "      <td>0.562368</td>\n",
       "      <td>-0.494316</td>\n",
       "      <td>-1.237946</td>\n",
       "      <td>-0.001858</td>\n",
       "      <td>-0.849402</td>\n",
       "      <td>0.692396</td>\n",
       "      <td>-0.558017</td>\n",
       "      <td>0.566112</td>\n",
       "      <td>7</td>\n",
       "    </tr>\n",
       "    <tr>\n",
       "      <th>4</th>\n",
       "      <td>-0.534519</td>\n",
       "      <td>-0.644320</td>\n",
       "      <td>0.890393</td>\n",
       "      <td>-1.416250</td>\n",
       "      <td>-1.472281</td>\n",
       "      <td>0.937030</td>\n",
       "      <td>-0.804184</td>\n",
       "      <td>0.291020</td>\n",
       "      <td>-0.922800</td>\n",
       "      <td>2.089810</td>\n",
       "      <td>0.692396</td>\n",
       "      <td>1.792059</td>\n",
       "      <td>-1.766434</td>\n",
       "      <td>5</td>\n",
       "    </tr>\n",
       "  </tbody>\n",
       "</table>\n",
       "</div>"
      ],
      "text/plain": [
       "   sugar to flour ratio  sugar index  bake temp  chill time  calories  \\\n",
       "0             -0.464475     0.875168  -0.941445   -0.894671  0.367978   \n",
       "1             -0.604563    -0.451709  -0.083989    0.206440 -0.042954   \n",
       "2             -0.954783    -0.751326  -0.707593    0.148487 -0.168020   \n",
       "3             -0.954783     1.089181  -0.200915    0.612112  0.153579   \n",
       "4             -0.534519    -0.644320   0.890393   -1.416250 -1.472281   \n",
       "\n",
       "    density        pH  grams baking soda  bake time    weight  chocolate  \\\n",
       "0 -0.333415 -0.742210          -0.612460   1.337694  0.310813  -1.444260   \n",
       "1 -0.122242 -0.370369          -0.334466  -1.760020 -0.772054  -1.444260   \n",
       "2 -2.448553 -0.060502           2.097979   2.928411 -1.932270   0.692396   \n",
       "3  0.562368 -0.494316          -1.237946  -0.001858 -0.849402   0.692396   \n",
       "4  0.937030 -0.804184           0.291020  -0.922800  2.089810   0.692396   \n",
       "\n",
       "       nuts  butter type_melted  quality  \n",
       "0 -0.558017            0.566112        8  \n",
       "1 -0.558017            0.566112        7  \n",
       "2  1.792059            0.566112        9  \n",
       "3 -0.558017            0.566112        7  \n",
       "4  1.792059           -1.766434        5  "
      ]
     },
     "execution_count": 21,
     "metadata": {},
     "output_type": "execute_result"
    }
   ],
   "source": [
    "data.head()"
   ]
  },
  {
   "cell_type": "code",
   "execution_count": 22,
   "metadata": {
    "ExecuteTime": {
     "end_time": "2019-04-19T13:58:51.620168Z",
     "start_time": "2019-04-19T13:58:51.613629Z"
    }
   },
   "outputs": [
    {
     "data": {
      "text/plain": [
       "Index(['sugar to flour ratio', 'sugar index', 'bake temp', 'chill time',\n",
       "       'calories', 'density', 'pH', 'grams baking soda', 'bake time', 'weight',\n",
       "       'chocolate', 'nuts', 'butter type_melted', 'quality'],\n",
       "      dtype='object')"
      ]
     },
     "execution_count": 22,
     "metadata": {},
     "output_type": "execute_result"
    }
   ],
   "source": [
    "data.columns"
   ]
  },
  {
   "cell_type": "code",
   "execution_count": 23,
   "metadata": {
    "ExecuteTime": {
     "end_time": "2019-04-19T13:58:52.622827Z",
     "start_time": "2019-04-19T13:58:52.619191Z"
    }
   },
   "outputs": [
    {
     "data": {
      "text/plain": [
       "(5138, 14)"
      ]
     },
     "execution_count": 23,
     "metadata": {},
     "output_type": "execute_result"
    }
   ],
   "source": [
    "data.shape"
   ]
  },
  {
   "cell_type": "code",
   "execution_count": 46,
   "metadata": {
    "ExecuteTime": {
     "end_time": "2019-04-19T09:57:45.283139Z",
     "start_time": "2019-04-19T09:57:45.278552Z"
    }
   },
   "outputs": [],
   "source": []
  },
  {
   "cell_type": "code",
   "execution_count": 47,
   "metadata": {
    "ExecuteTime": {
     "end_time": "2019-04-19T09:57:45.295844Z",
     "start_time": "2019-04-19T09:57:45.285199Z"
    }
   },
   "outputs": [],
   "source": []
  },
  {
   "cell_type": "code",
   "execution_count": 26,
   "metadata": {
    "ExecuteTime": {
     "end_time": "2019-04-19T14:00:01.763191Z",
     "start_time": "2019-04-19T14:00:01.679968Z"
    }
   },
   "outputs": [],
   "source": [
    "X = data.drop(columns='quality')\n",
    "y = data['quality']\n",
    "X_train, X_test, y_train, y_test = train_test_split(X, y, test_size=0.2, random_state=42, stratify=y)\n",
    "\n",
    "sm = SMOTE(k_neighbors=3, random_state=2)\n",
    "X_train_res, y_train_res = sm.fit_sample(X_train, y_train.ravel())"
   ]
  },
  {
   "cell_type": "markdown",
   "metadata": {
    "ExecuteTime": {
     "end_time": "2019-04-19T09:57:45.593213Z",
     "start_time": "2019-04-19T09:57:45.590770Z"
    }
   },
   "source": [
    "## We try KNeighborsClassifier"
   ]
  },
  {
   "cell_type": "code",
   "execution_count": 41,
   "metadata": {
    "ExecuteTime": {
     "end_time": "2019-04-19T14:05:08.095833Z",
     "start_time": "2019-04-19T14:05:08.089065Z"
    }
   },
   "outputs": [],
   "source": [
    "# Parameters\n",
    "\n",
    "n_neighbors = 1\n",
    "# n_neighbors : int, optional (default = 5) Number of neighbors to use by default for kneighbors queries.\n",
    "\n",
    "weights = 'uniform'\n",
    "#weights : str or callable, optional (default = ‘uniform’) weight function used in prediction. Possible values:\n",
    "    #‘uniform’ : uniform weights. All points in each neighborhood are weighted equally.\n",
    "    #‘distance’ : weight points by the inverse of their distance. in this case, closer neighbors of a query point will have a greater influence than neighbors which are further away.\n",
    "    #[callable] : a user-defined function which accepts an array of distances, and returns an array of the same shape containing the weights.\n",
    "\n",
    "    \n",
    "algorithm = 'auto'\n",
    "#algorithm : {‘auto’, ‘ball_tree’, ‘kd_tree’, ‘brute’}, optional\n",
    "\n",
    "#    Algorithm used to compute the nearest neighbors:\n",
    "\n",
    "#        ‘ball_tree’ will use BallTree\n",
    "#        ‘kd_tree’ will use KDTree\n",
    "#        ‘brute’ will use a brute-force search.\n",
    "#        ‘auto’ will attempt to decide the most appropriate algorithm based on the values passed to fit method.\n",
    "\n",
    "#    Note: fitting on sparse input will override the setting of this parameter, using brute force.\n",
    "\n",
    "\n",
    "leaf_size = 30\n",
    "#leaf_size : int, optional (default = 30) Leaf size passed to BallTree or KDTree. This can affect the speed of the construction and query, as well as the memory required to store the tree. The optimal value depends on the nature of the problem.\n",
    "\n",
    "\n",
    "p = 2\n",
    "#p : integer, optional (default = 2) Power parameter for the Minkowski metric. When p = 1, this is equivalent to using manhattan_distance (l1), and euclidean_distance (l2) for p = 2. For arbitrary p, minkowski_distance (l_p) is used.\n",
    "\n",
    "metric = 'minkowski'\n",
    "#metric : string or callable, default ‘minkowski’ the distance metric to use for the tree. The default metric is minkowski, and with p=2 is equivalent to the standard Euclidean metric. See the documentation of the DistanceMetric class for a list of available metrics.\n",
    "\n",
    "metric_params = None\n",
    "#metric_params : dict, optional (default = None). Additional keyword arguments for the metric function.\n",
    "\n",
    "n_jobs = None\n",
    "#n_jobs : int or None, optional (default=None). The number of parallel jobs to run for neighbors search. None means 1 unless in a joblib.parallel_backend context. -1 means using all processors. See Glossary for more details. Doesn’t affect fit method.\n"
   ]
  },
  {
   "cell_type": "code",
   "execution_count": 42,
   "metadata": {
    "ExecuteTime": {
     "end_time": "2019-04-19T14:05:08.520633Z",
     "start_time": "2019-04-19T14:05:08.497631Z"
    }
   },
   "outputs": [
    {
     "data": {
      "text/plain": [
       "KNeighborsClassifier(algorithm='auto', leaf_size=30, metric='minkowski',\n",
       "           metric_params=None, n_jobs=None, n_neighbors=1, p=2,\n",
       "           weights='uniform')"
      ]
     },
     "execution_count": 42,
     "metadata": {},
     "output_type": "execute_result"
    }
   ],
   "source": [
    "KN = KNeighborsClassifier(n_neighbors = n_neighbors, weights= weights, algorithm= algorithm, leaf_size= leaf_size,\n",
    "                         p= p, metric=metric, metric_params=metric_params, n_jobs=n_jobs)\n",
    "KN.fit(X_train_res, y_train_res)"
   ]
  },
  {
   "cell_type": "code",
   "execution_count": 43,
   "metadata": {
    "ExecuteTime": {
     "end_time": "2019-04-19T14:05:09.184523Z",
     "start_time": "2019-04-19T14:05:09.135688Z"
    }
   },
   "outputs": [],
   "source": [
    "y_pred = KN.predict(X_test)"
   ]
  },
  {
   "cell_type": "code",
   "execution_count": null,
   "metadata": {},
   "outputs": [],
   "source": []
  },
  {
   "cell_type": "markdown",
   "metadata": {
    "ExecuteTime": {
     "end_time": "2019-04-19T14:05:10.222307Z",
     "start_time": "2019-04-19T14:05:10.217993Z"
    }
   },
   "source": [
    "### Evaluate using metrics"
   ]
  },
  {
   "cell_type": "code",
   "execution_count": 45,
   "metadata": {
    "ExecuteTime": {
     "end_time": "2019-04-19T14:05:10.595297Z",
     "start_time": "2019-04-19T14:05:10.588741Z"
    }
   },
   "outputs": [],
   "source": [
    "from sklearn.metrics import classification_report\n",
    "from sklearn.metrics import accuracy_score\n",
    "from sklearn.metrics import roc_curve\n",
    "from sklearn.metrics import confusion_matrix"
   ]
  },
  {
   "cell_type": "code",
   "execution_count": 46,
   "metadata": {
    "ExecuteTime": {
     "end_time": "2019-04-19T14:05:11.676415Z",
     "start_time": "2019-04-19T14:05:11.661315Z"
    }
   },
   "outputs": [
    {
     "name": "stdout",
     "output_type": "stream",
     "text": [
      "              precision    recall  f1-score   support\n",
      "\n",
      "           3       0.00      0.00      0.00         1\n",
      "           4       0.17      0.22      0.19         9\n",
      "           5       0.72      0.65      0.68       112\n",
      "           6       0.50      0.57      0.53       121\n",
      "           7       0.63      0.58      0.61       262\n",
      "           8       0.69      0.66      0.67       354\n",
      "           9       0.50      0.54      0.52       141\n",
      "          10       0.26      0.41      0.31        27\n",
      "          11       0.00      0.00      0.00         1\n",
      "\n",
      "   micro avg       0.60      0.60      0.60      1028\n",
      "   macro avg       0.39      0.40      0.39      1028\n",
      "weighted avg       0.61      0.60      0.60      1028\n",
      "\n",
      "---\n",
      "0.5992217898832685\n",
      "---\n",
      "[[  0   0   1   0   0   0   0   0   0]\n",
      " [  1   2   4   2   0   0   0   0   0]\n",
      " [  0   5  73  31   3   0   0   0   0]\n",
      " [  0   5  20  69  19   4   4   0   0]\n",
      " [  1   0   4  28 153  58  14   4   0]\n",
      " [  0   0   0   5  55 232  49  12   1]\n",
      " [  0   0   0   2   9  38  76  15   1]\n",
      " [  0   0   0   0   2   5   9  11   0]\n",
      " [  0   0   0   0   0   0   0   1   0]]\n"
     ]
    }
   ],
   "source": [
    "print(classification_report(y_test, y_pred))\n",
    "print(\"---\")\n",
    "print(accuracy_score(y_test, y_pred))\n",
    "print('---')\n",
    "print(confusion_matrix(y_test, y_pred))"
   ]
  },
  {
   "cell_type": "markdown",
   "metadata": {},
   "source": [
    "## Fitting the hyperparameters"
   ]
  },
  {
   "cell_type": "code",
   "execution_count": 35,
   "metadata": {
    "ExecuteTime": {
     "end_time": "2019-04-19T14:03:39.064098Z",
     "start_time": "2019-04-19T14:02:51.091896Z"
    }
   },
   "outputs": [
    {
     "name": "stdout",
     "output_type": "stream",
     "text": [
      "Best score: 0.9205677095585353\n",
      "Best parameters: {'n_neighbors': 1}\n"
     ]
    }
   ],
   "source": [
    "# CHECKING BEST PARAMETER COMBINATION FOR KNN\n",
    "\n",
    "from sklearn.model_selection import StratifiedKFold\n",
    "from sklearn.model_selection import GridSearchCV\n",
    "\n",
    "KN_best = KNeighborsClassifier()\n",
    "\n",
    "# Parameters to try\n",
    "parameter_grid = {'n_neighbors': [i for i in range(1, 20, 2)]}\n",
    "\n",
    "# Instantiate stratified cross validation\n",
    "cross_validation = StratifiedKFold(n_splits=10)\n",
    "\n",
    "# Create grid search object on decision tree using stratified cross validation\n",
    "grid_search = GridSearchCV(KN_best,\n",
    "                           param_grid=parameter_grid,\n",
    "                           cv=cross_validation)\n",
    "\n",
    "# Fit model with grid_search\n",
    "grid_search.fit(X_train_res, y_train_res)\n",
    "print('Best score: {}'.format(grid_search.best_score_))\n",
    "print('Best parameters: {}'.format(grid_search.best_params_))"
   ]
  },
  {
   "cell_type": "code",
   "execution_count": null,
   "metadata": {
    "ExecuteTime": {
     "end_time": "2019-04-19T09:38:22.899321Z",
     "start_time": "2019-04-19T09:38:22.895221Z"
    }
   },
   "outputs": [],
   "source": []
  },
  {
   "cell_type": "code",
   "execution_count": 56,
   "metadata": {
    "ExecuteTime": {
     "end_time": "2019-04-19T09:57:50.339240Z",
     "start_time": "2019-04-19T09:57:50.337143Z"
    }
   },
   "outputs": [],
   "source": []
  },
  {
   "cell_type": "code",
   "execution_count": 47,
   "metadata": {
    "ExecuteTime": {
     "end_time": "2019-04-19T14:07:47.153854Z",
     "start_time": "2019-04-19T14:06:38.824097Z"
    }
   },
   "outputs": [
    {
     "name": "stdout",
     "output_type": "stream",
     "text": [
      "Best score: 0.8920254057868737\n",
      "Best parameters: {'weights': 'distance', 'n_neighbors': 5}\n"
     ]
    }
   ],
   "source": [
    "# Random CV -CHECKING BEST PARAMETER COMBINATION FOR KNN\n",
    "\n",
    "from sklearn.model_selection import RandomizedSearchCV\n",
    "\n",
    "KN_best_2 = KNeighborsClassifier()\n",
    "\n",
    "# Parameters to try\n",
    "parameter_grid = {'n_neighbors': [i for i in range(1, 40, 2)],\n",
    "                 'weights': ['uniform', 'distance']}\n",
    "\n",
    "\n",
    "\n",
    "# Create grid search object on decision tree using stratified cross validation\n",
    "n_iter_search = 20\n",
    "random_search = RandomizedSearchCV(KN_best_2,\n",
    "                           param_distributions=parameter_grid,\n",
    "                           n_iter=n_iter_search, cv=5)\n",
    "\n",
    "# Fit model with grid_search\n",
    "random_search.fit(X_train_res, y_train_res)\n",
    "print('Best score: {}'.format(random_search.best_score_))\n",
    "print('Best parameters: {}'.format(random_search.best_params_))"
   ]
  },
  {
   "cell_type": "code",
   "execution_count": null,
   "metadata": {},
   "outputs": [],
   "source": []
  }
 ],
 "metadata": {
  "kernelspec": {
   "display_name": "Python 3",
   "language": "python",
   "name": "python3"
  },
  "language_info": {
   "codemirror_mode": {
    "name": "ipython",
    "version": 3
   },
   "file_extension": ".py",
   "mimetype": "text/x-python",
   "name": "python",
   "nbconvert_exporter": "python",
   "pygments_lexer": "ipython3",
   "version": "3.7.1"
  },
  "varInspector": {
   "cols": {
    "lenName": 16,
    "lenType": 16,
    "lenVar": 40
   },
   "kernels_config": {
    "python": {
     "delete_cmd_postfix": "",
     "delete_cmd_prefix": "del ",
     "library": "var_list.py",
     "varRefreshCmd": "print(var_dic_list())"
    },
    "r": {
     "delete_cmd_postfix": ") ",
     "delete_cmd_prefix": "rm(",
     "library": "var_list.r",
     "varRefreshCmd": "cat(var_dic_list()) "
    }
   },
   "types_to_exclude": [
    "module",
    "function",
    "builtin_function_or_method",
    "instance",
    "_Feature"
   ],
   "window_display": false
  }
 },
 "nbformat": 4,
 "nbformat_minor": 2
}
